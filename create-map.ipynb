{
 "cells": [
  {
   "cell_type": "code",
   "execution_count": 62,
   "metadata": {
    "collapsed": false
   },
   "outputs": [],
   "source": [
    "%matplotlib inline\n",
    "from edgenerator import make_graph\n",
    "from biom import load_table\n",
    "from jinja2 import Environment\n",
    "from json import dumps\n",
    "\n",
    "import pandas as pd\n",
    "import numpy as np\n",
    "import networkx as nx"
   ]
  },
  {
   "cell_type": "code",
   "execution_count": 8,
   "metadata": {
    "collapsed": true
   },
   "outputs": [],
   "source": [
    "def load_mf(fn):\n",
    "    _df = pd.read_csv(fn, sep='\\t', dtype=str, keep_default_na=False, na_values=[])\n",
    "    _df.set_index('#SampleID', inplace=True)\n",
    "    return _df"
   ]
  },
  {
   "cell_type": "code",
   "execution_count": 9,
   "metadata": {
    "collapsed": false
   },
   "outputs": [],
   "source": [
    "mf = load_mf('/Users/yoshikivazquezbaeza/Documents/PDF/KnightLaboratory/VazquezBaezaDogs/mapping-file-full.alpha.txt')\n",
    "bt = load_table(\"/Users/yoshikivazquezbaeza/Documents/PDF/KnightLaboratory/VazquezBaezaDogs/otu_table.15000.no-diarrhea.biom\")"
   ]
  },
  {
   "cell_type": "code",
   "execution_count": 17,
   "metadata": {
    "collapsed": true
   },
   "outputs": [],
   "source": [
    "mf['latitude'] = pd.to_numeric(mf['latitude'], errors='coerce')\n",
    "mf['longitude'] = pd.to_numeric(mf['longitude'], errors='coerce')"
   ]
  },
  {
   "cell_type": "code",
   "execution_count": 30,
   "metadata": {
    "collapsed": true
   },
   "outputs": [],
   "source": [
    "# add some noise :L\n",
    "mf['latitude'] = mf['latitude'] + np.random.normal(size=len(mf))\n",
    "mf['longitude'] = mf['longitude'] + np.random.normal(size=len(mf))"
   ]
  },
  {
   "cell_type": "code",
   "execution_count": 31,
   "metadata": {
    "collapsed": false
   },
   "outputs": [
    {
     "data": {
      "text/plain": [
       "<matplotlib.axes._subplots.AxesSubplot at 0x1149368d0>"
      ]
     },
     "execution_count": 31,
     "metadata": {},
     "output_type": "execute_result"
    },
    {
     "data": {
      "image/png": "[encoded data removed]",
      "text/plain": [
       "<matplotlib.figure.Figure at 0x114964210>"
      ]
     },
     "metadata": {},
     "output_type": "display_data"
    }
   ],
   "source": [
    "mf.plot('longitude', 'latitude', kind='scatter')"
   ]
  },
  {
   "cell_type": "code",
   "execution_count": 113,
   "metadata": {
    "collapsed": false
   },
   "outputs": [
    {
     "data": {
      "text/plain": [
       "144"
      ]
     },
     "execution_count": 113,
     "metadata": {},
     "output_type": "execute_result"
    }
   ],
   "source": [
    "g = make_graph(bt, 2000)\n",
    "g.number_of_nodes()"
   ]
  },
  {
   "cell_type": "code",
   "execution_count": 114,
   "metadata": {
    "collapsed": false
   },
   "outputs": [],
   "source": [
    "# get only these two columns as a dict, retrieving\n",
    "# only samples present in the graph\n",
    "attribs = mf[['latitude', 'longitude']].loc[g.nodes()].to_dict()\n",
    "\n",
    "nx.set_node_attributes(g, 'latitude', attribs['latitude'])\n",
    "nx.set_node_attributes(g, 'longitude', attribs['longitude'])"
   ]
  },
  {
   "cell_type": "code",
   "execution_count": 115,
   "metadata": {
    "collapsed": false
   },
   "outputs": [],
   "source": [
    "edges = []\n",
    "\n",
    "for edge in g.edges_iter():\n",
    "    u, v = edge\n",
    "    edges.append({'origin': {'latitude': attribs['latitude'][u], 'longitude':attribs['longitude'][u]},\n",
    "                  'destination': {'latitude': attribs['latitude'][v], 'longitude': attribs['longitude'][v]},\n",
    "                  'taxonomy': g.get_edge_data(*edge)})"
   ]
  },
  {
   "cell_type": "code",
   "execution_count": 120,
   "metadata": {
    "collapsed": false
   },
   "outputs": [],
   "source": [
    "with open('template.html', 'r') as f:\n",
    "    template = Environment().from_string(f.read())\n",
    "\n",
    "with open('generated.html', 'w') as f:\n",
    "    f.write(template.render(edge_data=dumps(edges)))"
   ]
  },
  {
   "cell_type": "code",
   "execution_count": null,
   "metadata": {
    "collapsed": true
   },
   "outputs": [],
   "source": []
  }
 ],
 "metadata": {
  "kernelspec": {
   "display_name": "Python 2",
   "language": "python",
   "name": "python2"
  },
  "language_info": {
   "codemirror_mode": {
    "name": "ipython",
    "version": 2
   },
   "file_extension": ".py",
   "mimetype": "text/x-python",
   "name": "python",
   "nbconvert_exporter": "python",
   "pygments_lexer": "ipython2",
   "version": "2.7.12"
  }
 },
 "nbformat": 4,
 "nbformat_minor": 1
}
