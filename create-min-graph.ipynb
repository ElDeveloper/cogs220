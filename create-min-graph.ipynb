{
 "cells": [
  {
   "cell_type": "code",
   "execution_count": 1,
   "metadata": {
    "collapsed": false
   },
   "outputs": [],
   "source": [
    "%matplotlib inline\n",
    "from edgenerator import make_graph\n",
    "from biom import load_table\n",
    "from jinja2 import Environment\n",
    "from json import dumps\n",
    "from skbio import DistanceMatrix\n",
    "\n",
    "import pandas as pd\n",
    "import numpy as np\n",
    "import networkx as nx"
   ]
  },
  {
   "cell_type": "code",
   "execution_count": 2,
   "metadata": {
    "collapsed": true
   },
   "outputs": [],
   "source": [
    "def load_mf(fn):\n",
    "    _df = pd.read_csv(fn, sep='\\t', dtype=str, keep_default_na=False, na_values=[])\n",
    "    _df.set_index('#SampleID', inplace=True)\n",
    "    return _df"
   ]
  },
  {
   "cell_type": "code",
   "execution_count": 44,
   "metadata": {
    "collapsed": false
   },
   "outputs": [
    {
     "name": "stdout",
     "output_type": "stream",
     "text": [
      "/home/yovazquezbaeza/.bashrc: line 34: module: command not found\n",
      "discarding /home/yovazquezbaeza/miniconda/bin from PATH\n",
      "prepending /home/yovazquezbaeza/miniconda/envs/qiime/bin to PATH\n",
      "filtered.emp-90-gg-1k-unweighted_unifrac.txt  100%  355MB  16.2MB/s   00:22    \n"
     ]
    }
   ],
   "source": [
    "!scp barnacle:filtered.emp-90-gg-1k-unweighted_unifrac.txt ."
   ]
  },
  {
   "cell_type": "code",
   "execution_count": 45,
   "metadata": {
    "collapsed": false
   },
   "outputs": [
    {
     "name": "stdout",
     "output_type": "stream",
     "text": [
      "/home/yovazquezbaeza/.bashrc: line 34: module: command not found\n",
      "discarding /home/yovazquezbaeza/miniconda/bin from PATH\n",
      "prepending /home/yovazquezbaeza/miniconda/envs/qiime/bin to PATH\n",
      "emp_qiime_mapping_all_emp.tsv                 100%   18MB  18.2MB/s   00:01    \n"
     ]
    }
   ],
   "source": [
    "!scp barnacle:/projects/emp/00-qiime-maps/merged/emp_qiime_mapping_all_emp.tsv ."
   ]
  },
  {
   "cell_type": "code",
   "execution_count": 15,
   "metadata": {
    "collapsed": false
   },
   "outputs": [],
   "source": [
    "mf = load_mf('emp_qiime_mapping_all_emp.tsv')\n",
    "dm = DistanceMatrix.read('filtered.emp-90-gg-1k-unweighted_unifrac.txt')"
   ]
  },
  {
   "cell_type": "code",
   "execution_count": 16,
   "metadata": {
    "collapsed": false
   },
   "outputs": [],
   "source": [
    "mf = mf.loc[list(dm.ids)].copy()"
   ]
  },
  {
   "cell_type": "code",
   "execution_count": 17,
   "metadata": {
    "collapsed": false
   },
   "outputs": [],
   "source": [
    "mf['latitude_deg'] = pd.to_numeric(mf['latitude_deg'], errors='coerce')\n",
    "mf['longitude_deg'] = pd.to_numeric(mf['longitude_deg'], errors='coerce')"
   ]
  },
  {
   "cell_type": "code",
   "execution_count": 18,
   "metadata": {
    "collapsed": true
   },
   "outputs": [],
   "source": [
    "# add some noise :L\n",
    "mf['latitude_deg'] = mf['latitude_deg'] + np.random.normal(size=len(mf))\n",
    "mf['longitude_deg'] = mf['longitude_deg'] + np.random.normal(size=len(mf))"
   ]
  },
  {
   "cell_type": "code",
   "execution_count": 19,
   "metadata": {
    "collapsed": false
   },
   "outputs": [
    {
     "data": {
      "text/plain": [
       "<matplotlib.axes._subplots.AxesSubplot at 0x10c901ba8>"
      ]
     },
     "execution_count": 19,
     "metadata": {},
     "output_type": "execute_result"
    },
    {
     "data": {
      "image/png": "[encoded data removed]",
      "text/plain": [
       "<matplotlib.figure.Figure at 0x1066f3ef0>"
      ]
     },
     "metadata": {},
     "output_type": "display_data"
    }
   ],
   "source": [
    "mf.plot('longitude_deg', 'latitude_deg', kind='scatter')"
   ]
  },
  {
   "cell_type": "markdown",
   "metadata": {},
   "source": [
    "Create the graphs to compute the minimum graph."
   ]
  },
  {
   "cell_type": "code",
   "execution_count": 10,
   "metadata": {
    "collapsed": false
   },
   "outputs": [],
   "source": [
    "g = nx.from_numpy_matrix(dm.data)\n",
    "g = nx.relabel_nodes(g, dict(zip(g.nodes(), dm.ids)))"
   ]
  },
  {
   "cell_type": "code",
   "execution_count": 11,
   "metadata": {
    "collapsed": true
   },
   "outputs": [],
   "source": [
    "nx.write_gpickle(g, 'graph-filtered.emp-90-gg-1k-unweighted_unifrac.pickle')"
   ]
  },
  {
   "cell_type": "code",
   "execution_count": 6,
   "metadata": {
    "collapsed": false
   },
   "outputs": [],
   "source": [
    "g = nx.read_gpickle('graph-filtered.emp-90-gg-1k-unweighted_unifrac.pickle')"
   ]
  },
  {
   "cell_type": "code",
   "execution_count": 8,
   "metadata": {
    "collapsed": true
   },
   "outputs": [],
   "source": [
    "with open('minimum-edge-list.txt', 'w') as f:\n",
    "    for u, v, d in min_edges:\n",
    "        f.write('%s\\t%s\\t%f\\n' % (u, v, d))"
   ]
  },
  {
   "cell_type": "code",
   "execution_count": null,
   "metadata": {
    "collapsed": false
   },
   "outputs": [],
   "source": [
    "min_edges = []\n",
    "i = 0\n",
    "for n in g.nodes():\n",
    "    min_w = np.inf\n",
    "    min_u_v = None\n",
    "    \n",
    "    for u, v, data in g.edges(n, data=True):\n",
    "        \n",
    "        if data['weight'] <= min_w:\n",
    "            min_w = data['weight']\n",
    "            min_u_v = (u, v, min_w)\n",
    "    min_edges.append(min_u_v)"
   ]
  },
  {
   "cell_type": "markdown",
   "metadata": {},
   "source": [
    "If you don't want to compute the minimum graph everytime, you can load this list."
   ]
  },
  {
   "cell_type": "code",
   "execution_count": 20,
   "metadata": {
    "collapsed": false
   },
   "outputs": [],
   "source": [
    "min_edges = pd.read_csv('minimum-edge-list.txt', sep='\\t', header=None).as_matrix().tolist()"
   ]
  },
  {
   "cell_type": "code",
   "execution_count": 21,
   "metadata": {
    "collapsed": false
   },
   "outputs": [],
   "source": [
    "f = nx.Graph()\n",
    "for u, v, d in min_edges:\n",
    "    f.add_edge(u, v, attr_dict={'weight': d})"
   ]
  },
  {
   "cell_type": "code",
   "execution_count": 22,
   "metadata": {
    "collapsed": false
   },
   "outputs": [],
   "source": [
    "# get only these two columns as a dict, retrieving\n",
    "# only samples present in the graph\n",
    "attribs = mf[['latitude_deg', 'longitude_deg', 'empo_3', 'title']].loc[f.nodes()].to_dict()\n",
    "\n",
    "nx.set_node_attributes(f, 'latitude_deg', attribs['latitude_deg'])\n",
    "nx.set_node_attributes(f, 'longitude_deg', attribs['longitude_deg'])\n",
    "nx.set_node_attributes(f, 'empo_3', attribs['empo_3'])"
   ]
  },
  {
   "cell_type": "code",
   "execution_count": 23,
   "metadata": {
    "collapsed": true
   },
   "outputs": [],
   "source": [
    "empo_cat_color={'EMP sample': 'white',\n",
    "                'Host-associated': '#fb9a99',\n",
    "                'Free-living': '#e31a1c',\n",
    "                'Animal': '#b2df8a',\n",
    "                'Plant': '#33a02c',\n",
    "                'Non-saline': '#a6cee3',\n",
    "                'Saline': '#1f78b4',\n",
    "                'Aerosol (non-saline)': 'lightgrey',\n",
    "                'Animal corpus': 'yellow',\n",
    "                'Animal distal gut': 'saddlebrown',\n",
    "                'Animal proximal gut': 'tan',\n",
    "                'Animal secretion': 'sandybrown',\n",
    "                'Animal surface': 'DarkGoldenRod',\n",
    "                'Hypersaline (saline)': 'lightskyblue',\n",
    "                'Intertidal (saline)': 'PaleTurquoise',\n",
    "                'Mock community': 'fuchsia',\n",
    "                'Plant corpus': 'lawngreen',\n",
    "                'Plant rhizosphere': 'darkgreen',\n",
    "                'Plant surface': 'MediumSpringGreen',\n",
    "                'Sediment (non-saline)': 'lightsalmon',\n",
    "                'Sediment (saline)': 'tomato',\n",
    "                'Soil (non-saline)': 'red',\n",
    "                'Sterile water blank': 'violet',\n",
    "                'Surface (non-saline)': 'black',\n",
    "                'Surface (saline)': 'dimgrey',\n",
    "                'Water (non-saline)': 'navy',\n",
    "                'Water (saline)': 'royalblue'}"
   ]
  },
  {
   "cell_type": "code",
   "execution_count": 24,
   "metadata": {
    "collapsed": false
   },
   "outputs": [],
   "source": [
    "edges = []\n",
    "\n",
    "for edge in f.edges_iter():\n",
    "    u, v = edge\n",
    "    \n",
    "    if attribs['empo_3'][u] != attribs['empo_3'][v]:\n",
    "        color = 'white'\n",
    "    else:\n",
    "        color = empo_cat_color[attribs['empo_3'][u]]\n",
    "\n",
    "    edges.append({'origin': {'latitude': attribs['latitude_deg'][u],\n",
    "                             'longitude':attribs['longitude_deg'][u],\n",
    "                             'empo_3': attribs['empo_3'][u]\n",
    "                            },\n",
    "                  'destination': {'latitude': attribs['latitude_deg'][v],\n",
    "                                  'longitude': attribs['longitude_deg'][v],\n",
    "                                  'empo_3': attribs['empo_3'][v]\n",
    "                                 },\n",
    "                  'strokeColor': color\n",
    "                 })"
   ]
  },
  {
   "cell_type": "code",
   "execution_count": 42,
   "metadata": {
    "collapsed": false
   },
   "outputs": [],
   "source": [
    "with open('zoom-template.html', 'r') as fd:\n",
    "    template = Environment().from_string(fd.read())\n",
    "\n",
    "with open('generated-mingraph-zoomable-colors.html', 'w') as fd:\n",
    "    fd.write(template.render(edge_data=dumps(edges)))"
   ]
  },
  {
   "cell_type": "code",
   "execution_count": null,
   "metadata": {
    "collapsed": true
   },
   "outputs": [],
   "source": [
    "# https://github.com/markmarkoh/datamaps/issues/222"
   ]
  },
  {
   "cell_type": "code",
   "execution_count": null,
   "metadata": {
    "collapsed": true
   },
   "outputs": [],
   "source": []
  }
 ],
 "metadata": {
  "kernelspec": {
   "display_name": "Python 3",
   "language": "python",
   "name": "python3"
  },
  "language_info": {
   "codemirror_mode": {
    "name": "ipython",
    "version": 3
   },
   "file_extension": ".py",
   "mimetype": "text/x-python",
   "name": "python",
   "nbconvert_exporter": "python",
   "pygments_lexer": "ipython3",
   "version": "3.5.1"
  },
  "widgets": {
   "state": {},
   "version": "1.1.2"
  }
 },
 "nbformat": 4,
 "nbformat_minor": 1
}
